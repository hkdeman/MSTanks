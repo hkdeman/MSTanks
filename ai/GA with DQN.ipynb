{
 "cells": [
  {
   "cell_type": "code",
   "execution_count": 10,
   "metadata": {},
   "outputs": [],
   "source": [
    "from server_comms import ServerComms, ServerMessageTypes\n",
    "import time\n",
    "import threading\n",
    "import json\n",
    "from IPython.display import clear_output\n",
    "import numpy as np\n",
    "import utils\n",
    "import random"
   ]
  },
  {
   "cell_type": "code",
   "execution_count": 23,
   "metadata": {},
   "outputs": [
    {
     "name": "stdout",
     "output_type": "stream",
     "text": [
      "phew finished\n"
     ]
    }
   ],
   "source": [
    "server_message_types = ServerMessageTypes()"
   ]
  },
  {
   "cell_type": "code",
   "execution_count": 17,
   "metadata": {},
   "outputs": [],
   "source": [
    "class ApiRunner:\n",
    "    def __init__(self):\n",
    "        self.is_connected = True\n",
    "        self.server = ServerComms(\"127.0.0.1\", 8052)\n",
    "            \n",
    "    def send(self, type, payload=None):\n",
    "        self.server.send_message(type, payload)\n",
    "        \n",
    "    def disconnect(self):\n",
    "        self.is_connected = False\n",
    "        self.server.server_socket.close()"
   ]
  },
  {
   "cell_type": "code",
   "execution_count": 18,
   "metadata": {},
   "outputs": [],
   "source": [
    "api_runner = ApiRunner()"
   ]
  },
  {
   "cell_type": "code",
   "execution_count": 24,
   "metadata": {},
   "outputs": [],
   "source": [
    "class TankRunner:\n",
    "    def __init__(self, name, api_runner):\n",
    "        self.name = name\n",
    "        self.api_runner = api_runner\n",
    "#         self.lock = threading.Lock()\n",
    "        self.start()\n",
    "\n",
    "    def start(self):\n",
    "        self.has_ended = False\n",
    "        self.state = dict(me={}, enemies={}, items={})\n",
    "        self.spawn()\n",
    "        self.receive_thread = threading.Thread(target=self.read)\n",
    "        self.receive_thread.daemon = True\n",
    "        self.receive_thread.start()\n",
    "        \n",
    "    def spawn(self):\n",
    "        self.send(server_message_types.CREATETANK, dict(Name=self.name))\n",
    "        \n",
    "    def despawn(self):\n",
    "        self.send(server_message_types.DESPAWNTANK)\n",
    "        \n",
    "    def read(self):\n",
    "        while not self.has_ended:\n",
    "#             self.lock.acquire()\n",
    "            message = self.api_runner.server.read_message()\n",
    "            self.update_state(message)\n",
    "#             self.lock.release()\n",
    "        print(\"phew finished\")\n",
    "    \n",
    "    def update_state(self, message):\n",
    "        if message == None: return\n",
    "        if message['type'] == server_message_types.OBJECTUPDATE:\n",
    "            data = message['data']\n",
    "            if data['Type'] == 'Tank':\n",
    "                if data['Name'] == self.name:\n",
    "                    self.update_me(data)\n",
    "                elif data['Name'] != self.name:\n",
    "                    self.update_enemy(data)\n",
    "            elif data['Type'] == 'AmmoPickup':\n",
    "                self.update_item(data)\n",
    "    \n",
    "    def update_me(self, data):\n",
    "        self.state['me'] = data\n",
    "    \n",
    "    def update_enemy(self, data):\n",
    "        self.state['enemies'][data['Name']] = data\n",
    "    \n",
    "    def update_item(self, data):\n",
    "        self.state['items'][data['Id']] = data\n",
    "    \n",
    "    def send(self, type, payload=None):\n",
    "        self.api_runner.send(type, payload)\n",
    "    \n",
    "    def stop(self):\n",
    "        self.has_ended = True\n",
    "        self.despawn()\n",
    "        \n",
    "    def do_action(self, action_type):\n",
    "        if action_type == 1:\n",
    "            self.send(server_message_types.TOGGLEFORWARD)\n",
    "        elif action_type == 2:\n",
    "            self.send(server_message_types.TOGGLEREVERSE)\n",
    "        elif action_type == 3:\n",
    "            self.send(server_message_types.TOGGLELEFT)\n",
    "        elif action_type == 4:\n",
    "            self.send(server_message_types.TOGGLERIGHT)\n",
    "        elif action_type == 5:\n",
    "            self.send(server_message_types.TOGGLETURRETLEFT)\n",
    "        elif action_type == 6:\n",
    "            self.send(server_message_types.TOGGLETURRETRIGHT)\n",
    "        elif action_type == 7:\n",
    "            self.send(server_message_types.FIRE)\n",
    "        elif action_type == 8:\n",
    "            self.send(server_message_types.STOPMOVE)\n",
    "        elif action_type == 9:\n",
    "            self.send(server_message_types.STOPTURN)\n",
    "        elif action_type == 10:\n",
    "            self.send(server_message_types.STOPTURRET)\n",
    "        elif action_type == 11:\n",
    "            self.send(server_message_types.STOPALL)\n",
    "        \n",
    "    def calculate_reward(self):\n",
    "        pass\n",
    "    \n",
    "    def get_closest_enemy(self):\n",
    "        min_distance = -99999\n",
    "        min_coords = (-99999, -99999)\n",
    "        me_coords = (self.state['me']['X'], self.state['me']['Y'])\n",
    "        for enemy in self.state['enemies'].values():\n",
    "            enemy_coords = (enemy['X'], enemy['Y'])\n",
    "            distance = utils.calculate_distance(me_coords, enemy_coords)\n",
    "            if min_distance == -99999 or min_distance < distance:\n",
    "                min_distance = distance\n",
    "                min_coords = enemy_coords\n",
    "        return min_coords, round(min_distance, 3)\n",
    "    \n",
    "    def get_number_of_enemies(self):\n",
    "        return len(self.state['enemies'].keys())\n",
    "    \n",
    "    def get_state_details(self):\n",
    "        if len(self.state['me'].keys()) == 0: return\n",
    "        me_coords = [round(self.state['me']['X'],3), round(self.state['me']['Y'],3)]\n",
    "        closest_enemy_coords, closest_enemy_distance = self.get_closest_enemy()\n",
    "        closest_enemy_coords = (round(closest_enemy_coords[0], 3), round(closest_enemy_coords[1], 3))\n",
    "        number_of_enemies = self.get_number_of_enemies()\n",
    "        return None\n",
    "    \n",
    "    def step(self, action):\n",
    "        self.do_action(action)\n",
    "        time.sleep(0.1)\n",
    "        state = self.get_state_details()\n",
    "#         reward = self.calculate_reward()\n",
    "        return state"
   ]
  },
  {
   "cell_type": "code",
   "execution_count": 26,
   "metadata": {},
   "outputs": [
    {
     "name": "stdout",
     "output_type": "stream",
     "text": [
      "phew finished\n",
      "phew finished\n",
      "phew finished\n"
     ]
    }
   ],
   "source": [
    "for i in range(2):\n",
    "    tank_runner = TankRunner(\"bruh{0}\".format(i), api_runner)\n",
    "    for i in range(10):\n",
    "        action = random.randint(1,12)\n",
    "        tank_runner.step(action)\n",
    "        time.sleep(2)\n",
    "    time.sleep(5)\n",
    "    tank_runner.stop()"
   ]
  },
  {
   "cell_type": "code",
   "execution_count": 21,
   "metadata": {},
   "outputs": [],
   "source": [
    "tank_runner = TankRunner(\"bruh{0}\".format(1), api_runner)"
   ]
  },
  {
   "cell_type": "code",
   "execution_count": null,
   "metadata": {},
   "outputs": [],
   "source": [
    "tank_runner.step(2)\n",
    "tank_runner.step(3)"
   ]
  },
  {
   "cell_type": "code",
   "execution_count": null,
   "metadata": {},
   "outputs": [],
   "source": [
    "tank_runner.stop()"
   ]
  },
  {
   "cell_type": "code",
   "execution_count": null,
   "metadata": {},
   "outputs": [],
   "source": []
  }
 ],
 "metadata": {
  "kernelspec": {
   "display_name": "Python 3",
   "language": "python",
   "name": "python3"
  },
  "language_info": {
   "codemirror_mode": {
    "name": "ipython",
    "version": 3
   },
   "file_extension": ".py",
   "mimetype": "text/x-python",
   "name": "python",
   "nbconvert_exporter": "python",
   "pygments_lexer": "ipython3",
   "version": "3.7.0"
  }
 },
 "nbformat": 4,
 "nbformat_minor": 2
}
